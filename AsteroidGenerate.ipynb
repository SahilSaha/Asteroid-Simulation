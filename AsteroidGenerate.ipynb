{
 "cells": [
  {
   "cell_type": "code",
   "execution_count": 3,
   "id": "74a8966c",
   "metadata": {},
   "outputs": [],
   "source": [
    "import numpy as np\n",
    "\n",
    "n = 25600\n",
    "w = 1.68e-8\n",
    "G = 6.67e-11\n",
    "ms = 1.989e30\n",
    "\n",
    "r = [0]*n\n",
    "a = [0]*n\n",
    "x = [0]*n\n",
    "y = [0]*n\n",
    "u = [0]*n\n",
    "v = [0]*n\n",
    "\n",
    "for i in range(n):\n",
    "    r[i] = np.random.uniform(3e11, 6e11)\n",
    "    a[i] = np.random.uniform(0,2*np.pi)\n",
    "    \n",
    "for i in range(n):\n",
    "    x[i] = r[i]*np.cos(a[i])\n",
    "    y[i] = r[i]*np.sin(a[i])\n",
    "    u[i] = -(np.sqrt(G*ms/np.abs(r[i]))-w*r[i])*np.sin(a[i])\n",
    "    v[i] = (np.sqrt(G*ms/np.abs(r[i]))-w*r[i])*np.cos(a[i])"
   ]
  },
  {
   "cell_type": "code",
   "execution_count": 4,
   "id": "48088595",
   "metadata": {},
   "outputs": [],
   "source": [
    "f = open('GeneratePos2.txt', 'w+')\n",
    "for i in range(n):\n",
    "    f.write(str(x[i])+ ' ' + str(y[i]) + '\\n')\n",
    "f.close()\n",
    "f = open('GenerateVel2.txt', 'w+')\n",
    "for i in range(n):\n",
    "    f.write(str(u[i])+ ' ' + str(v[i]) + '\\n')\n",
    "f.close()"
   ]
  },
  {
   "cell_type": "code",
   "execution_count": null,
   "id": "0d182e6f",
   "metadata": {},
   "outputs": [],
   "source": []
  }
 ],
 "metadata": {
  "kernelspec": {
   "display_name": "Python 3",
   "language": "python",
   "name": "python3"
  },
  "language_info": {
   "codemirror_mode": {
    "name": "ipython",
    "version": 3
   },
   "file_extension": ".py",
   "mimetype": "text/x-python",
   "name": "python",
   "nbconvert_exporter": "python",
   "pygments_lexer": "ipython3",
   "version": "3.8.10"
  }
 },
 "nbformat": 4,
 "nbformat_minor": 5
}
